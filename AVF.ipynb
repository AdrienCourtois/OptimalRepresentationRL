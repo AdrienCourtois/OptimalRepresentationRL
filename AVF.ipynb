{
  "nbformat": 4,
  "nbformat_minor": 0,
  "metadata": {
    "colab": {
      "name": "AVF.ipynb",
      "provenance": [],
      "collapsed_sections": []
    },
    "kernelspec": {
      "name": "python3",
      "display_name": "Python 3"
    },
    "accelerator": "GPU"
  },
  "cells": [
    {
      "cell_type": "code",
      "metadata": {
        "id": "Qy5fO8m8Tecr",
        "colab_type": "code",
        "colab": {
          "base_uri": "https://localhost:8080/",
          "height": 122
        },
        "outputId": "7b75a24b-873b-4fed-f39e-106671c87b1e"
      },
      "source": [
        "from google.colab import drive\n",
        "drive.mount('/content/gdrive', force_remount=True)"
      ],
      "execution_count": 1,
      "outputs": [
        {
          "output_type": "stream",
          "text": [
            "Go to this URL in a browser: https://accounts.google.com/o/oauth2/auth?client_id=947318989803-6bn6qk8qdgf4n4g3pfee6491hc0brc4i.apps.googleusercontent.com&redirect_uri=urn%3aietf%3awg%3aoauth%3a2.0%3aoob&response_type=code&scope=email%20https%3a%2f%2fwww.googleapis.com%2fauth%2fdocs.test%20https%3a%2f%2fwww.googleapis.com%2fauth%2fdrive%20https%3a%2f%2fwww.googleapis.com%2fauth%2fdrive.photos.readonly%20https%3a%2f%2fwww.googleapis.com%2fauth%2fpeopleapi.readonly\n",
            "\n",
            "Enter your authorization code:\n",
            "··········\n",
            "Mounted at /content/gdrive\n"
          ],
          "name": "stdout"
        }
      ]
    },
    {
      "cell_type": "code",
      "metadata": {
        "id": "HbfZZHLcWAtf",
        "colab_type": "code",
        "colab": {}
      },
      "source": [
        "!rm -rf OptimalRepresentationRL\n",
        "!git clone https://github.com/AdrienCourtois/OptimalRepresentationRL > /dev/null 2>&1\n",
        "\n",
        "!git clone https://github.com/rlgammazero/mvarl_hands_on.git > /dev/null 2>&1"
      ],
      "execution_count": 0,
      "outputs": []
    },
    {
      "cell_type": "code",
      "metadata": {
        "id": "o3FT34Jm_qfu",
        "colab_type": "code",
        "colab": {}
      },
      "source": [
        "import torch\n",
        "import torch.nn as nn\n",
        "import torch.nn.functional as F\n",
        "from torch.autograd import Variable\n",
        "\n",
        "import sys\n",
        "sys.path.append('./OptimalRepresentationRL')\n",
        "sys.path.append('./mvarl_hands_on/utils')\n",
        "\n",
        "from MDPs.toy_small import MDPToySmall\n",
        "from AVFManager import AVFManager\n",
        "from MDPs.MDPTwoRoom import MDPTwoRoom\n",
        "from MDPs.MDPFourRoom import MDPFourRoom\n",
        "from utils.get_optimal_V import get_optimal_V\n",
        "\n",
        "from cliffwalk import CliffWalk\n",
        "\n",
        "import numpy as np\n",
        "import matplotlib.pyplot as plt\n",
        "import pickle"
      ],
      "execution_count": 0,
      "outputs": []
    },
    {
      "cell_type": "markdown",
      "metadata": {
        "id": "KgPYFiZqDgx7",
        "colab_type": "text"
      },
      "source": [
        "# Definition of the MDP"
      ]
    },
    {
      "cell_type": "code",
      "metadata": {
        "id": "PgxouOmqWkxM",
        "colab_type": "code",
        "colab": {}
      },
      "source": [
        "MDP = MDPTwoRoom()\n",
        "\n",
        "class MDPCliffWalk(CliffWalk):\n",
        "    def __init__(self):\n",
        "        super(MDPCliffWalk, self).__init__(proba_succ=0.98)\n",
        "\n",
        "        self.P = torch.from_numpy(self.P)\n",
        "        self.r = torch.from_numpy(self.R).mean(2).mean(1)[:,None].float()\n",
        "\n",
        "        self.n_states = self.P.size(0)\n",
        "        self.n_actions = self.P.size(1)\n",
        "\n",
        "        self.is_cuda = False\n",
        "\n",
        "        self.gamma = 0.8\n",
        "\n",
        "MDP = MDPCliffWalk()\n",
        "MDP = MDPFourRoom()"
      ],
      "execution_count": 0,
      "outputs": []
    },
    {
      "cell_type": "markdown",
      "metadata": {
        "id": "3fZGNkmlDjhF",
        "colab_type": "text"
      },
      "source": [
        "# Calculation of the AVF"
      ]
    },
    {
      "cell_type": "code",
      "metadata": {
        "id": "Linxu9ek_842",
        "colab_type": "code",
        "colab": {}
      },
      "source": [
        "#avf_m = AVFManager(MDP)\n",
        "#avf_m.compute(1000, niter=1000)\n",
        "#avf_m.save(\"/content/gdrive/My Drive/Colab Notebooks/models/AVFs1000_1000_4Room.pkl\")\n",
        "\n",
        "avf_m = AVFManager.load(\"/content/gdrive/My Drive/Colab Notebooks/models/AVFs1000_1000_4Room.pkl\")"
      ],
      "execution_count": 0,
      "outputs": []
    },
    {
      "cell_type": "markdown",
      "metadata": {
        "id": "7KZf0Erqzng0",
        "colab_type": "text"
      },
      "source": [
        "# Model"
      ]
    },
    {
      "cell_type": "code",
      "metadata": {
        "id": "TDD2wSpIzooJ",
        "colab_type": "code",
        "colab": {}
      },
      "source": [
        " class AVFRepresentation(nn.Module):\n",
        "    def __init__(self, MDP, d=100):\n",
        "        super(AVFRepresentation, self).__init__()\n",
        "        \n",
        "        self.MDP = MDP\n",
        "        self.d = d\n",
        "\n",
        "        self.fc1 = nn.Linear(self.MDP.n_states, 512)\n",
        "        self.fc2 = nn.Linear(512, self.d)\n",
        "\n",
        "        self.optimizer = torch.optim.RMSprop(self.parameters(), lr=0.00025)\n",
        "    \n",
        "    def forward(self, x):\n",
        "        x = F.relu(self.fc1(x))\n",
        "        x = self.fc2(x)\n",
        "\n",
        "        return x\n",
        "    \n",
        "    def load(self, path):\n",
        "        temp = torch.load(path)\n",
        "\n",
        "        self.fc1.weight.value = temp['fc1.weight']\n",
        "        self.fc1.bias.value = temp['fc1.bias']\n",
        "\n",
        "        self.fc2.weight.value = temp['fc2.weight']\n",
        "        self.fc2.bias.value = temp['fc2.bias']\n",
        "\n",
        "representation = AVFRepresentation(MDP)\n",
        "representation.load(\"/content/gdrive/My Drive/Colab Notebooks/models/Phi_4Room.pth\")"
      ],
      "execution_count": 0,
      "outputs": []
    },
    {
      "cell_type": "markdown",
      "metadata": {
        "id": "SxjOOdIO90CP",
        "colab_type": "text"
      },
      "source": [
        "# Train"
      ]
    },
    {
      "cell_type": "code",
      "metadata": {
        "id": "CLhGB1b6X0H2",
        "colab_type": "code",
        "colab": {}
      },
      "source": [
        "# Hyper parameters\n",
        "batch_size = 32\n",
        "n_iter = 200000\n",
        "d = 100\n",
        "\n",
        "losses = []\n",
        "\n",
        "theta = Variable(torch.rand(len(avf_m), d), requires_grad=True)\n",
        "optim_theta = torch.optim.Adam([theta], lr=1e-5)\n",
        "\n",
        "# Added\n",
        "obj_theta = Variable(torch.rand(d), requires_grad=True)\n",
        "optim_obj_theta = torch.optim.Adam([obj_theta], lr=1e-5)\n",
        "r = torch.from_numpy(MDP.R).mean(2)\n",
        "\n",
        "representation = AVFRepresentation(MDP, d=d)"
      ],
      "execution_count": 0,
      "outputs": []
    },
    {
      "cell_type": "code",
      "metadata": {
        "id": "b9-AlPaUN86a",
        "colab_type": "code",
        "outputId": "8f1aaa24-aa33-4588-8472-e865256312a6",
        "colab": {
          "base_uri": "https://localhost:8080/",
          "height": 204
        }
      },
      "source": [
        "# Precomputation of V_AVF\n",
        "V_avf = torch.zeros(len(avf_m), MDP.n_states, 1)\n",
        "for j in range(len(avf_m)):\n",
        "    V_avf[j] = avf_m.compute_V(avf_m[j])\n",
        "\n",
        "\n",
        "#######################\n",
        "for i in range(n_iter):\n",
        "    # Retrieve batch\n",
        "    idx = np.random.randint(0, len(avf_m), batch_size)\n",
        "\n",
        "    # Compute V\n",
        "    V = V_avf[idx] \n",
        "    \n",
        "    # Compute \\hat{V}\n",
        "    Phi = representation(torch.eye(MDP.n_states)).t()\n",
        "    V_hat = (Phi.t()[None]*theta[idx][:,None]).sum(2, keepdim=True)\n",
        "    \n",
        "    # Computation of the loss\n",
        "    loss = nn.SmoothL1Loss()(V_hat, V)\n",
        "\n",
        "    # Added, bellman #\n",
        "    V_obj = (Phi.t() * obj_theta[None]).sum(1)\n",
        "    \n",
        "    Q = r + MDP.gamma * (MDP.P * V_obj[None,None]).sum(2)\n",
        "    \n",
        "    V_obj_target = Q.max(1).values.float()\n",
        "\n",
        "    loss = loss + nn.SmoothL1Loss()(V_obj, V_obj_target)\n",
        "    ##################\n",
        "\n",
        "    # Update phi\n",
        "    loss.backward()\n",
        "    representation.optimizer.step()\n",
        "    representation.optimizer.zero_grad()\n",
        "\n",
        "    # Added, bellman #\n",
        "    optim_obj_theta.step()\n",
        "    optim_obj_theta.zero_grad()\n",
        "    ##################\n",
        "\n",
        "    # Update theta\n",
        "    optim_theta.step()\n",
        "    optim_theta.zero_grad()\n",
        "    \n",
        "    if i % 5000 == 0 and i > 0:\n",
        "        print(i)\n",
        "\n",
        "    losses.append(loss.item())\n",
        "\n",
        "plt.plot(np.log(losses))\n",
        "plt.show()\n",
        "\n",
        "torch.save(representation.state_dict(), \"/content/gdrive/My Drive/Colab Notebooks/models/Phi_4Room.pth\")"
      ],
      "execution_count": 0,
      "outputs": [
        {
          "output_type": "stream",
          "text": [
            "5000\n",
            "10000\n",
            "15000\n",
            "20000\n",
            "25000\n",
            "30000\n",
            "35000\n",
            "40000\n",
            "45000\n",
            "50000\n",
            "55000\n"
          ],
          "name": "stdout"
        }
      ]
    },
    {
      "cell_type": "code",
      "metadata": {
        "id": "Z0Nrvc1IlBeK",
        "colab_type": "code",
        "colab": {
          "base_uri": "https://localhost:8080/",
          "height": 265
        },
        "outputId": "5a5ddbef-4a39-4a86-b317-99e8829489a2"
      },
      "source": [
        "losses_theta = []\n",
        "optim_obj_theta = torch.optim.Adam([obj_theta], lr=1e-5)\n",
        "\n",
        "for i in range(10000):\n",
        "    # Compute \\hat{V}\n",
        "    Phi = representation(torch.eye(MDP.n_states)).t()\n",
        "\n",
        "    # Added, bellman #\n",
        "    V_obj = (Phi.t() * obj_theta[None]).sum(1)\n",
        "    \n",
        "    Q = r + MDP.gamma * (MDP.P * V_obj[None,None]).sum(2)\n",
        "    \n",
        "    V_obj_target = Q.max(1).values.float()\n",
        "\n",
        "    loss = nn.SmoothL1Loss()(V_obj, V_obj_target)\n",
        "    ##################\n",
        "\n",
        "    # Update phi\n",
        "    loss.backward()\n",
        "    losses_theta.append(loss.item())\n",
        "\n",
        "    # Added, bellman #\n",
        "    optim_obj_theta.step()\n",
        "    optim_obj_theta.zero_grad()\n",
        "    ##################\n",
        "\n",
        "plt.plot(np.log(losses_theta))\n",
        "plt.show()"
      ],
      "execution_count": 57,
      "outputs": [
        {
          "output_type": "display_data",
          "data": {
            "image/png": "[encoded data removed]",
            "text/plain": [
              "<Figure size 432x288 with 1 Axes>"
            ]
          },
          "metadata": {
            "tags": []
          }
        }
      ]
    },
    {
      "cell_type": "markdown",
      "metadata": {
        "id": "kTJlBx5bO7ys",
        "colab_type": "text"
      },
      "source": [
        "# Evaluate"
      ]
    },
    {
      "cell_type": "code",
      "metadata": {
        "id": "m4rQlitjZ2H8",
        "colab_type": "code",
        "outputId": "819e22c1-d176-4a33-f0e1-f2f5284b09ed",
        "colab": {
          "base_uri": "https://localhost:8080/",
          "height": 51
        }
      },
      "source": [
        "V_true = get_optimal_V(MDP)\n",
        "V_obj = (Phi.t() * obj_theta[None]).sum(1)\n",
        "\n",
        "print(torch.norm(V_obj - V_true))\n",
        "\n",
        "V_obj = (Phi.t() * obj_theta[None]).sum(1)\n",
        "\n",
        "error, rewards = MDP.evaluate(V_obj)\n",
        "\n",
        "print(error, np.mean(rewards))"
      ],
      "execution_count": 58,
      "outputs": [
        {
          "output_type": "stream",
          "text": [
            "tensor(10.2969, dtype=torch.float64, grad_fn=<NormBackward0>)\n",
            "103 0.0\n"
          ],
          "name": "stdout"
        }
      ]
    }
  ]
}