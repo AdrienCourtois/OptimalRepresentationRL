{
  "nbformat": 4,
  "nbformat_minor": 0,
  "metadata": {
    "colab": {
      "name": "CEVIM.ipynb",
      "provenance": []
    },
    "kernelspec": {
      "name": "python3",
      "display_name": "Python 3"
    }
  },
  "cells": [
    {
      "cell_type": "code",
      "metadata": {
        "id": "7O7WDVjDQ02R",
        "colab_type": "code",
        "outputId": "876b69b8-d8b4-4270-d850-eee9861d7449",
        "colab": {
          "base_uri": "https://localhost:8080/",
          "height": 122
        }
      },
      "source": [
        "from google.colab import drive\n",
        "drive.mount('/content/gdrive', force_remount=True)"
      ],
      "execution_count": 1,
      "outputs": [
        {
          "output_type": "stream",
          "text": [
            "Go to this URL in a browser: https://accounts.google.com/o/oauth2/auth?client_id=947318989803-6bn6qk8qdgf4n4g3pfee6491hc0brc4i.apps.googleusercontent.com&redirect_uri=urn%3aietf%3awg%3aoauth%3a2.0%3aoob&response_type=code&scope=email%20https%3a%2f%2fwww.googleapis.com%2fauth%2fdocs.test%20https%3a%2f%2fwww.googleapis.com%2fauth%2fdrive%20https%3a%2f%2fwww.googleapis.com%2fauth%2fdrive.photos.readonly%20https%3a%2f%2fwww.googleapis.com%2fauth%2fpeopleapi.readonly\n",
            "\n",
            "Enter your authorization code:\n",
            "··········\n",
            "Mounted at /content/gdrive\n"
          ],
          "name": "stdout"
        }
      ]
    },
    {
      "cell_type": "code",
      "metadata": {
        "id": "Olq97oOsQ16N",
        "colab_type": "code",
        "colab": {}
      },
      "source": [
        "!rm -rf OptimalRepresentationRL\n",
        "!git clone https://github.com/AdrienCourtois/OptimalRepresentationRL > /dev/null 2>&1\n",
        "\n",
        "!git clone https://github.com/rlgammazero/mvarl_hands_on.git > /dev/null 2>&1"
      ],
      "execution_count": 0,
      "outputs": []
    },
    {
      "cell_type": "code",
      "metadata": {
        "id": "H7EMPrDpTban",
        "colab_type": "code",
        "colab": {}
      },
      "source": [
        "import torch\n",
        "import torch.nn as nn\n",
        "import torch.nn.functional as F\n",
        "from torch.autograd import Variable\n",
        "\n",
        "import sys\n",
        "sys.path.append('./OptimalRepresentationRL')\n",
        "sys.path.append('./mvarl_hands_on/utils')\n",
        "\n",
        "from AVFManager import AVFManager\n",
        "from MDPs.MDPTwoRoom import MDPTwoRoom\n",
        "from MDPs.MDPFourRoom import MDPFourRoom\n",
        "\n",
        "from utils.evaluate_V import evaluate_V\n",
        "from utils.get_optimal_V import get_optimal_V\n",
        "from utils.get_naive_V import get_naive_V\n",
        "\n",
        "from cliffwalk import CliffWalk\n",
        "\n",
        "import numpy as np\n",
        "import matplotlib.pyplot as plt\n",
        "import pickle\n",
        "import torch.multiprocessing as mp"
      ],
      "execution_count": 0,
      "outputs": []
    },
    {
      "cell_type": "markdown",
      "metadata": {
        "id": "p-PS0k84TfUE",
        "colab_type": "text"
      },
      "source": [
        "# Definition of the MDP"
      ]
    },
    {
      "cell_type": "code",
      "metadata": {
        "id": "jhcsIuqHTeu7",
        "colab_type": "code",
        "colab": {}
      },
      "source": [
        "class MDPCliffWalk(CliffWalk):\n",
        "    def __init__(self):\n",
        "        super(MDPCliffWalk, self).__init__(proba_succ=0.98)\n",
        "\n",
        "        self.P = torch.from_numpy(self.P)\n",
        "        self.r = torch.from_numpy(self.R).mean(2).mean(1)[:,None].float()\n",
        "\n",
        "        self.n_states = self.P.size(0)\n",
        "        self.n_actions = self.P.size(1)\n",
        "\n",
        "        self.is_cuda = False\n",
        "\n",
        "        self.gamma = 0.8\n",
        "    \n",
        "    def evaluate(self, V):\n",
        "        rewards = []\n",
        "        nb_errors = 0\n",
        "\n",
        "        for i in range(self.n_states):\n",
        "            error, reward = evaluate_V(V, self, state_start=i)\n",
        "\n",
        "            nb_errors += error\n",
        "            rewards.append(reward)\n",
        "        \n",
        "        return nb_errors, rewards\n",
        "\n",
        "MDP = MDPCliffWalk()\n",
        "MDP = MDPFourRoom()"
      ],
      "execution_count": 0,
      "outputs": []
    },
    {
      "cell_type": "markdown",
      "metadata": {
        "id": "uDvtieOEpaGE",
        "colab_type": "text"
      },
      "source": [
        "# Get optimal V"
      ]
    },
    {
      "cell_type": "code",
      "metadata": {
        "id": "UX6syS9ypcke",
        "colab_type": "code",
        "colab": {}
      },
      "source": [
        "V_true = get_optimal_V(MDP)\n",
        "#evaluate_V(V_true, MDP, render=True)"
      ],
      "execution_count": 0,
      "outputs": []
    },
    {
      "cell_type": "markdown",
      "metadata": {
        "id": "Fn5p4nTRpWye",
        "colab_type": "text"
      },
      "source": [
        "# Model"
      ]
    },
    {
      "cell_type": "code",
      "metadata": {
        "id": "1E-8_NBFTiE_",
        "colab_type": "code",
        "colab": {}
      },
      "source": [
        "class Phi(nn.Module):\n",
        "    def __init__(self, MDP, n_out, n_hidden=512):\n",
        "        super(Phi, self).__init__()\n",
        "\n",
        "        self.MDP = MDP\n",
        "\n",
        "        self.n_out = n_out\n",
        "        self.n_hidden = n_hidden\n",
        "\n",
        "        self.fc1 = nn.Linear(self.MDP.n_states, self.n_hidden)\n",
        "        self.fc2 = nn.Linear(self.n_hidden, self.n_out)\n",
        "\n",
        "        self.optim = torch.optim.Adam(self.parameters(), lr=1e-4)\n",
        "    \n",
        "    def forward(self, x):\n",
        "        x = F.relu(self.fc1(x))\n",
        "        x = self.fc2(x)\n",
        "\n",
        "        return x\n",
        "\n",
        "class Model(nn.Module):\n",
        "    def __init__(self, MDP, n_out=100):\n",
        "        super(Model, self).__init__()\n",
        "\n",
        "        self.MDP = MDP\n",
        "        self.n_out = n_out\n",
        "\n",
        "        self.phi = Phi(self.MDP, self.n_out)\n",
        "        self.theta = nn.Linear(self.n_out, 1)\n",
        "        \n",
        "        self.optim_phi = self.phi.optim\n",
        "        self.optim_theta = torch.optim.Adam(self.theta.parameters(), lr=1e-4)\n",
        "    \n",
        "    def forward(self, x):\n",
        "        x = F.leaky_relu(self.phi(x))\n",
        "        x = self.theta(x)\n",
        "\n",
        "        return x"
      ],
      "execution_count": 0,
      "outputs": []
    },
    {
      "cell_type": "markdown",
      "metadata": {
        "id": "qU4lKugbpYLE",
        "colab_type": "text"
      },
      "source": [
        "# Optimization"
      ]
    },
    {
      "cell_type": "code",
      "metadata": {
        "id": "H39ni1dDVr2w",
        "colab_type": "code",
        "colab": {}
      },
      "source": [
        "# Hyper parameters #\n",
        "K = 100\n",
        "n_iter = 500\n",
        "\n",
        "losses_bellman = []\n",
        "losses_cum = []\n",
        "metrics = []\n",
        "metrics2 = []\n",
        "\n",
        "r = torch.from_numpy(MDP.R).mean(2)\n",
        "\n",
        "model = Model(MDP)"
      ],
      "execution_count": 0,
      "outputs": []
    },
    {
      "cell_type": "code",
      "metadata": {
        "id": "z3MPN0K5V-HR",
        "colab_type": "code",
        "outputId": "d7f7ae35-7dbe-44f4-be56-2f974fb156f4",
        "colab": {
          "base_uri": "https://localhost:8080/",
          "height": 894
        }
      },
      "source": [
        "alphas = (1-MDP.gamma) * np.power(MDP.gamma, np.arange(K-2, -2, -1)) / (1 - MDP.gamma ** (K+1))\n",
        "\n",
        "for i in range(n_iter):\n",
        "    cum_loss = 0\n",
        "\n",
        "    for k in range(K):\n",
        "        V = model(torch.eye(MDP.n_states))[:,0]\n",
        "\n",
        "        # Compute TV\n",
        "        Q = r + MDP.gamma * (MDP.P * V[None,None]).sum(2)\n",
        "        TV = Q.max(1).values\n",
        "        \n",
        "        # Loss\n",
        "        bellman_loss = nn.SmoothL1Loss()(V, TV)\n",
        "        cum_loss += alphas[k] * bellman_loss\n",
        "\n",
        "        # Update theta\n",
        "        bellman_loss.backward(retain_graph=True)\n",
        "        model.optim_theta.step()\n",
        "        model.optim_theta.zero_grad()\n",
        "\n",
        "        losses_bellman.append(bellman_loss.item())\n",
        "\n",
        "    # Update phi\n",
        "    cum_loss.backward()\n",
        "    model.optim_phi.step()\n",
        "    model.optim_phi.zero_grad()\n",
        "\n",
        "    # Calculate metric\n",
        "    V = model(torch.eye(MDP.n_states))[:,0]\n",
        "    metrics.append(nn.MSELoss()(V, V_true.float()).item())\n",
        "    #metrics2.append(np.mean(MDP.evaluate(V)[1]))\n",
        "\n",
        "    if i % 100 == 0 and i > 0:\n",
        "        print(i)\n",
        "\n",
        "    losses_cum.append(cum_loss.item())\n",
        "\n",
        "plt.plot(np.log(losses_bellman))\n",
        "plt.title(\"Bellman loss\")\n",
        "plt.show()\n",
        "\n",
        "plt.plot(np.log(losses_cum))\n",
        "plt.title(\"Cumulative loss\")\n",
        "plt.show()\n",
        "\n",
        "plt.plot(np.log(metrics))\n",
        "plt.title(\"Metrics\")\n",
        "plt.show()"
      ],
      "execution_count": 40,
      "outputs": [
        {
          "output_type": "stream",
          "text": [
            "100\n",
            "200\n",
            "300\n",
            "400\n",
            "356.1894540786743\n"
          ],
          "name": "stdout"
        },
        {
          "output_type": "display_data",
          "data": {
            "image/png": "[encoded data removed]",
            "text/plain": [
              "<Figure size 432x288 with 1 Axes>"
            ]
          },
          "metadata": {
            "tags": []
          }
        },
        {
          "output_type": "display_data",
          "data": {
            "image/png": "[encoded data removed]",
            "text/plain": [
              "<Figure size 432x288 with 1 Axes>"
            ]
          },
          "metadata": {
            "tags": []
          }
        },
        {
          "output_type": "display_data",
          "data": {
            "image/png": "[encoded data removed]",
            "text/plain": [
              "<Figure size 432x288 with 1 Axes>"
            ]
          },
          "metadata": {
            "tags": []
          }
        }
      ]
    },
    {
      "cell_type": "code",
      "metadata": {
        "id": "T_rEybUkq7Zw",
        "colab_type": "code",
        "colab": {
          "base_uri": "https://localhost:8080/",
          "height": 265
        },
        "outputId": "38e93c99-add9-43cc-ddfa-3820a330f31e"
      },
      "source": [
        "plt.plot(metrics2)\n",
        "plt.show()"
      ],
      "execution_count": 32,
      "outputs": [
        {
          "output_type": "display_data",
          "data": {
            "image/png": "[encoded data removed]",
            "text/plain": [
              "<Figure size 432x288 with 1 Axes>"
            ]
          },
          "metadata": {
            "tags": []
          }
        }
      ]
    },
    {
      "cell_type": "code",
      "metadata": {
        "id": "_lb5MNrzxpMf",
        "colab_type": "code",
        "colab": {
          "base_uri": "https://localhost:8080/",
          "height": 299
        },
        "outputId": "ac30b9f2-e8e1-489b-cf33-aaaa10c3263c"
      },
      "source": [
        "r = np.max(metrics2)\n",
        "C = np.sum(1- metrics2/r)\n",
        "alpha = - np.log(1-1/C)\n",
        "\n",
        "print(alpha)\n",
        "alpha = 1.4 / (MDP.gamma * MDP.n_states)\n",
        "print(alpha)\n",
        "\n",
        "plt.plot(metrics2)\n",
        "plt.plot(r * (1 - np.exp(-alpha * np.arange(len(metrics2)))))\n",
        "plt.show()"
      ],
      "execution_count": 33,
      "outputs": [
        {
          "output_type": "stream",
          "text": [
            "0.03045885313746373\n",
            "0.03804347826086956\n"
          ],
          "name": "stdout"
        },
        {
          "output_type": "display_data",
          "data": {
            "image/png": "[encoded data removed]",
            "text/plain": [
              "<Figure size 432x288 with 1 Axes>"
            ]
          },
          "metadata": {
            "tags": []
          }
        }
      ]
    },
    {
      "cell_type": "markdown",
      "metadata": {
        "id": "0d-tZls2YxDx",
        "colab_type": "text"
      },
      "source": [
        "# Evaluate"
      ]
    },
    {
      "cell_type": "code",
      "metadata": {
        "id": "1bZ8Vo4Zr98M",
        "colab_type": "code",
        "outputId": "eb11bcb0-7ee4-44d9-e877-d50850d22415",
        "colab": {
          "base_uri": "https://localhost:8080/",
          "height": 51
        }
      },
      "source": [
        "V = model(torch.eye(MDP.n_states))[:,0]\n",
        "nb_errors, rewards = MDP.evaluate(V)\n",
        "\n",
        "print(\"CEVIM\")\n",
        "print(\"Number of errors:\", nb_errors, \"; Mean reward:\", np.mean(rewards), \"; Std reward:\", np.std(rewards))"
      ],
      "execution_count": 65,
      "outputs": [
        {
          "output_type": "stream",
          "text": [
            "CEVIM\n",
            "Number of errors: 0 ; Mean reward: 0.8978908300425263 ; Std reward: 0.09888198948583073\n"
          ],
          "name": "stdout"
        }
      ]
    },
    {
      "cell_type": "code",
      "metadata": {
        "id": "ZXiwsAadt5G1",
        "colab_type": "code",
        "outputId": "56d81520-72cd-4fa9-fe06-ff8532254430",
        "colab": {
          "base_uri": "https://localhost:8080/",
          "height": 68
        }
      },
      "source": [
        "t0 = time()\n",
        "V_naive = get_naive_V(MDP, n_iter=500*100)\n",
        "print(time()-t0)\n",
        "nb_errors, rewards = MDP.evaluate(V_naive)\n",
        "\n",
        "print(\"Naive V\")\n",
        "print(\"Number of errors:\", nb_errors, \"; Mean reward:\", np.mean(rewards), \"; Std reward:\", np.std(rewards))"
      ],
      "execution_count": 42,
      "outputs": [
        {
          "output_type": "stream",
          "text": [
            "364.4719183444977\n",
            "Naive V\n",
            "Number of errors: 103 ; Mean reward: 0.0 ; Std reward: 0.0\n"
          ],
          "name": "stdout"
        }
      ]
    },
    {
      "cell_type": "code",
      "metadata": {
        "id": "e15uy1TUuRe_",
        "colab_type": "code",
        "outputId": "7767757a-aeb6-4e12-ac79-bc815793aecd",
        "colab": {
          "base_uri": "https://localhost:8080/",
          "height": 51
        }
      },
      "source": [
        "V_true = get_optimal_V(MDP)\n",
        "nb_errors, rewards = MDP.evaluate(V_true)\n",
        "\n",
        "print(\"Optimal V\")\n",
        "print(\"Number of errors:\", nb_errors, \"; Mean reward:\", np.mean(rewards), \"; Std reward:\", np.std(rewards))"
      ],
      "execution_count": 9,
      "outputs": [
        {
          "output_type": "stream",
          "text": [
            "Optimal V\n",
            "Number of errors: 0 ; Mean reward: 0.8978908300425263 ; Std reward: 0.09888198948583073\n"
          ],
          "name": "stdout"
        }
      ]
    }
  ]
}